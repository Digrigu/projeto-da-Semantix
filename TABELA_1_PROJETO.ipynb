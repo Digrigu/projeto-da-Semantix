{
  "cells": [
    {
      "cell_type": "markdown",
      "source": [
        "# Projeto-cientista de dados\n",
        "\n",
        "Obtive os dados da A Lyft Bikes and Scooters, que estão disponiveis para uso publico no kaggle. (https://www.kaggle.com/datasets/kirilosyossif/cyclistic-case-study-google-certificate).\n",
        "\n",
        "\n"
      ],
      "metadata": {
        "id": "xd9icbfN1nl5"
      }
    },
    {
      "cell_type": "markdown",
      "source": [
        "Usando esses dados, pretendo fazer uma analise e um estudo de aprendizado de maquina."
      ],
      "metadata": {
        "id": "YyZifFOMTxd2"
      }
    },
    {
      "cell_type": "markdown",
      "source": [
        "importando bibliotecas "
      ],
      "metadata": {
        "id": "legpxQGE2bxj"
      }
    },
    {
      "cell_type": "code",
      "source": [
        "import pandas as pd\n",
        "from datetime import datetime\n",
        "import matplotlib.pyplot as plt\n",
        "from sklearn.tree import DecisionTreeClassifier\n",
        "from sklearn.model_selection import train_test_split\n",
        "from sklearn.metrics import accuracy_score, confusion_matrix\n",
        "from sklearn.ensemble import RandomForestClassifier\n",
        "from sklearn.neighbors import KNeighborsClassifier\n",
        "\n"
      ],
      "metadata": {
        "id": "ACMQHFsdtcQe"
      },
      "execution_count": 42,
      "outputs": []
    },
    {
      "cell_type": "markdown",
      "source": [
        "Leitura do csv"
      ],
      "metadata": {
        "id": "SEUhJnH92gfw"
      }
    },
    {
      "cell_type": "code",
      "source": [
        "path = '202101-divvy-tripdata.csv'\n",
        "df = pd.read_csv (path) \n",
        "df.shape"
      ],
      "metadata": {
        "id": "8_dxxpa3s_LU",
        "outputId": "671c9eea-8cc8-4cc6-8b43-1e670c35aad4",
        "colab": {
          "base_uri": "https://localhost:8080/"
        }
      },
      "execution_count": 43,
      "outputs": [
        {
          "output_type": "execute_result",
          "data": {
            "text/plain": [
              "(96834, 13)"
            ]
          },
          "metadata": {},
          "execution_count": 43
        }
      ]
    },
    {
      "cell_type": "markdown",
      "source": [
        "Vendo as colunas e os campos do conjunto."
      ],
      "metadata": {
        "id": "BlQVEiTBVbSS"
      }
    },
    {
      "cell_type": "code",
      "source": [
        "df.head (5)"
      ],
      "metadata": {
        "id": "1Gbe5v9NvdN1",
        "outputId": "f233f682-ae47-44ff-fa0e-29d36ab21e75",
        "colab": {
          "base_uri": "https://localhost:8080/",
          "height": 444
        }
      },
      "execution_count": 44,
      "outputs": [
        {
          "output_type": "execute_result",
          "data": {
            "text/plain": [
              "            ride_id  rideable_type           started_at             ended_at  \\\n",
              "0  E19E6F1B8D4C42ED  electric_bike  2021-01-23 16:14:19  2021-01-23 16:24:44   \n",
              "1  DC88F20C2C55F27F  electric_bike  2021-01-27 18:43:08  2021-01-27 18:47:12   \n",
              "2  EC45C94683FE3F27  electric_bike  2021-01-21 22:35:54  2021-01-21 22:37:14   \n",
              "3  4FA453A75AE377DB  electric_bike  2021-01-07 13:31:13  2021-01-07 13:42:55   \n",
              "4  BE5E8EB4E7263A0B  electric_bike  2021-01-23 02:24:02  2021-01-23 02:24:45   \n",
              "\n",
              "           start_station_name start_station_id end_station_name  \\\n",
              "0  California Ave & Cortez St            17660              NaN   \n",
              "1  California Ave & Cortez St            17660              NaN   \n",
              "2  California Ave & Cortez St            17660              NaN   \n",
              "3  California Ave & Cortez St            17660              NaN   \n",
              "4  California Ave & Cortez St            17660              NaN   \n",
              "\n",
              "  end_station_id  start_lat  start_lng  end_lat  end_lng member_casual  \n",
              "0            NaN  41.900341 -87.696743    41.89   -87.72        member  \n",
              "1            NaN  41.900333 -87.696707    41.90   -87.69        member  \n",
              "2            NaN  41.900313 -87.696643    41.90   -87.70        member  \n",
              "3            NaN  41.900399 -87.696662    41.92   -87.69        member  \n",
              "4            NaN  41.900326 -87.696697    41.90   -87.70        casual  "
            ],
            "text/html": [
              "\n",
              "  <div id=\"df-95506793-5205-4f86-a9c1-1bdad9f1fd1e\">\n",
              "    <div class=\"colab-df-container\">\n",
              "      <div>\n",
              "<style scoped>\n",
              "    .dataframe tbody tr th:only-of-type {\n",
              "        vertical-align: middle;\n",
              "    }\n",
              "\n",
              "    .dataframe tbody tr th {\n",
              "        vertical-align: top;\n",
              "    }\n",
              "\n",
              "    .dataframe thead th {\n",
              "        text-align: right;\n",
              "    }\n",
              "</style>\n",
              "<table border=\"1\" class=\"dataframe\">\n",
              "  <thead>\n",
              "    <tr style=\"text-align: right;\">\n",
              "      <th></th>\n",
              "      <th>ride_id</th>\n",
              "      <th>rideable_type</th>\n",
              "      <th>started_at</th>\n",
              "      <th>ended_at</th>\n",
              "      <th>start_station_name</th>\n",
              "      <th>start_station_id</th>\n",
              "      <th>end_station_name</th>\n",
              "      <th>end_station_id</th>\n",
              "      <th>start_lat</th>\n",
              "      <th>start_lng</th>\n",
              "      <th>end_lat</th>\n",
              "      <th>end_lng</th>\n",
              "      <th>member_casual</th>\n",
              "    </tr>\n",
              "  </thead>\n",
              "  <tbody>\n",
              "    <tr>\n",
              "      <th>0</th>\n",
              "      <td>E19E6F1B8D4C42ED</td>\n",
              "      <td>electric_bike</td>\n",
              "      <td>2021-01-23 16:14:19</td>\n",
              "      <td>2021-01-23 16:24:44</td>\n",
              "      <td>California Ave &amp; Cortez St</td>\n",
              "      <td>17660</td>\n",
              "      <td>NaN</td>\n",
              "      <td>NaN</td>\n",
              "      <td>41.900341</td>\n",
              "      <td>-87.696743</td>\n",
              "      <td>41.89</td>\n",
              "      <td>-87.72</td>\n",
              "      <td>member</td>\n",
              "    </tr>\n",
              "    <tr>\n",
              "      <th>1</th>\n",
              "      <td>DC88F20C2C55F27F</td>\n",
              "      <td>electric_bike</td>\n",
              "      <td>2021-01-27 18:43:08</td>\n",
              "      <td>2021-01-27 18:47:12</td>\n",
              "      <td>California Ave &amp; Cortez St</td>\n",
              "      <td>17660</td>\n",
              "      <td>NaN</td>\n",
              "      <td>NaN</td>\n",
              "      <td>41.900333</td>\n",
              "      <td>-87.696707</td>\n",
              "      <td>41.90</td>\n",
              "      <td>-87.69</td>\n",
              "      <td>member</td>\n",
              "    </tr>\n",
              "    <tr>\n",
              "      <th>2</th>\n",
              "      <td>EC45C94683FE3F27</td>\n",
              "      <td>electric_bike</td>\n",
              "      <td>2021-01-21 22:35:54</td>\n",
              "      <td>2021-01-21 22:37:14</td>\n",
              "      <td>California Ave &amp; Cortez St</td>\n",
              "      <td>17660</td>\n",
              "      <td>NaN</td>\n",
              "      <td>NaN</td>\n",
              "      <td>41.900313</td>\n",
              "      <td>-87.696643</td>\n",
              "      <td>41.90</td>\n",
              "      <td>-87.70</td>\n",
              "      <td>member</td>\n",
              "    </tr>\n",
              "    <tr>\n",
              "      <th>3</th>\n",
              "      <td>4FA453A75AE377DB</td>\n",
              "      <td>electric_bike</td>\n",
              "      <td>2021-01-07 13:31:13</td>\n",
              "      <td>2021-01-07 13:42:55</td>\n",
              "      <td>California Ave &amp; Cortez St</td>\n",
              "      <td>17660</td>\n",
              "      <td>NaN</td>\n",
              "      <td>NaN</td>\n",
              "      <td>41.900399</td>\n",
              "      <td>-87.696662</td>\n",
              "      <td>41.92</td>\n",
              "      <td>-87.69</td>\n",
              "      <td>member</td>\n",
              "    </tr>\n",
              "    <tr>\n",
              "      <th>4</th>\n",
              "      <td>BE5E8EB4E7263A0B</td>\n",
              "      <td>electric_bike</td>\n",
              "      <td>2021-01-23 02:24:02</td>\n",
              "      <td>2021-01-23 02:24:45</td>\n",
              "      <td>California Ave &amp; Cortez St</td>\n",
              "      <td>17660</td>\n",
              "      <td>NaN</td>\n",
              "      <td>NaN</td>\n",
              "      <td>41.900326</td>\n",
              "      <td>-87.696697</td>\n",
              "      <td>41.90</td>\n",
              "      <td>-87.70</td>\n",
              "      <td>casual</td>\n",
              "    </tr>\n",
              "  </tbody>\n",
              "</table>\n",
              "</div>\n",
              "      <button class=\"colab-df-convert\" onclick=\"convertToInteractive('df-95506793-5205-4f86-a9c1-1bdad9f1fd1e')\"\n",
              "              title=\"Convert this dataframe to an interactive table.\"\n",
              "              style=\"display:none;\">\n",
              "        \n",
              "  <svg xmlns=\"http://www.w3.org/2000/svg\" height=\"24px\"viewBox=\"0 0 24 24\"\n",
              "       width=\"24px\">\n",
              "    <path d=\"M0 0h24v24H0V0z\" fill=\"none\"/>\n",
              "    <path d=\"M18.56 5.44l.94 2.06.94-2.06 2.06-.94-2.06-.94-.94-2.06-.94 2.06-2.06.94zm-11 1L8.5 8.5l.94-2.06 2.06-.94-2.06-.94L8.5 2.5l-.94 2.06-2.06.94zm10 10l.94 2.06.94-2.06 2.06-.94-2.06-.94-.94-2.06-.94 2.06-2.06.94z\"/><path d=\"M17.41 7.96l-1.37-1.37c-.4-.4-.92-.59-1.43-.59-.52 0-1.04.2-1.43.59L10.3 9.45l-7.72 7.72c-.78.78-.78 2.05 0 2.83L4 21.41c.39.39.9.59 1.41.59.51 0 1.02-.2 1.41-.59l7.78-7.78 2.81-2.81c.8-.78.8-2.07 0-2.86zM5.41 20L4 18.59l7.72-7.72 1.47 1.35L5.41 20z\"/>\n",
              "  </svg>\n",
              "      </button>\n",
              "      \n",
              "  <style>\n",
              "    .colab-df-container {\n",
              "      display:flex;\n",
              "      flex-wrap:wrap;\n",
              "      gap: 12px;\n",
              "    }\n",
              "\n",
              "    .colab-df-convert {\n",
              "      background-color: #E8F0FE;\n",
              "      border: none;\n",
              "      border-radius: 50%;\n",
              "      cursor: pointer;\n",
              "      display: none;\n",
              "      fill: #1967D2;\n",
              "      height: 32px;\n",
              "      padding: 0 0 0 0;\n",
              "      width: 32px;\n",
              "    }\n",
              "\n",
              "    .colab-df-convert:hover {\n",
              "      background-color: #E2EBFA;\n",
              "      box-shadow: 0px 1px 2px rgba(60, 64, 67, 0.3), 0px 1px 3px 1px rgba(60, 64, 67, 0.15);\n",
              "      fill: #174EA6;\n",
              "    }\n",
              "\n",
              "    [theme=dark] .colab-df-convert {\n",
              "      background-color: #3B4455;\n",
              "      fill: #D2E3FC;\n",
              "    }\n",
              "\n",
              "    [theme=dark] .colab-df-convert:hover {\n",
              "      background-color: #434B5C;\n",
              "      box-shadow: 0px 1px 3px 1px rgba(0, 0, 0, 0.15);\n",
              "      filter: drop-shadow(0px 1px 2px rgba(0, 0, 0, 0.3));\n",
              "      fill: #FFFFFF;\n",
              "    }\n",
              "  </style>\n",
              "\n",
              "      <script>\n",
              "        const buttonEl =\n",
              "          document.querySelector('#df-95506793-5205-4f86-a9c1-1bdad9f1fd1e button.colab-df-convert');\n",
              "        buttonEl.style.display =\n",
              "          google.colab.kernel.accessAllowed ? 'block' : 'none';\n",
              "\n",
              "        async function convertToInteractive(key) {\n",
              "          const element = document.querySelector('#df-95506793-5205-4f86-a9c1-1bdad9f1fd1e');\n",
              "          const dataTable =\n",
              "            await google.colab.kernel.invokeFunction('convertToInteractive',\n",
              "                                                     [key], {});\n",
              "          if (!dataTable) return;\n",
              "\n",
              "          const docLinkHtml = 'Like what you see? Visit the ' +\n",
              "            '<a target=\"_blank\" href=https://colab.research.google.com/notebooks/data_table.ipynb>data table notebook</a>'\n",
              "            + ' to learn more about interactive tables.';\n",
              "          element.innerHTML = '';\n",
              "          dataTable['output_type'] = 'display_data';\n",
              "          await google.colab.output.renderOutput(dataTable, element);\n",
              "          const docLink = document.createElement('div');\n",
              "          docLink.innerHTML = docLinkHtml;\n",
              "          element.appendChild(docLink);\n",
              "        }\n",
              "      </script>\n",
              "    </div>\n",
              "  </div>\n",
              "  "
            ]
          },
          "metadata": {},
          "execution_count": 44
        }
      ]
    },
    {
      "cell_type": "markdown",
      "source": [
        "Vendo as colunas que não tem dados.\n",
        "\n",
        "Tratando as colunas que não tem dados.\n",
        "\n"
      ],
      "metadata": {
        "id": "JpvMSMOA2snR"
      }
    },
    {
      "cell_type": "code",
      "source": [
        "df['rideable_type'].value_counts()"
      ],
      "metadata": {
        "colab": {
          "base_uri": "https://localhost:8080/"
        },
        "id": "nevheETLNYmP",
        "outputId": "8aaad796-1df8-4788-8e3b-11daa989a619"
      },
      "execution_count": 45,
      "outputs": [
        {
          "output_type": "execute_result",
          "data": {
            "text/plain": [
              "classic_bike     61700\n",
              "electric_bike    33028\n",
              "docked_bike       2106\n",
              "Name: rideable_type, dtype: int64"
            ]
          },
          "metadata": {},
          "execution_count": 45
        }
      ]
    },
    {
      "cell_type": "code",
      "source": [
        "df.isna().sum()"
      ],
      "metadata": {
        "id": "Qc8xQdamwyGf",
        "outputId": "73b760af-a608-4eb0-b4ef-8b72df86feac",
        "colab": {
          "base_uri": "https://localhost:8080/"
        }
      },
      "execution_count": 46,
      "outputs": [
        {
          "output_type": "execute_result",
          "data": {
            "text/plain": [
              "ride_id                   0\n",
              "rideable_type             0\n",
              "started_at                0\n",
              "ended_at                  0\n",
              "start_station_name     8625\n",
              "start_station_id       8625\n",
              "end_station_name      10277\n",
              "end_station_id        10277\n",
              "start_lat                 0\n",
              "start_lng                 0\n",
              "end_lat                 103\n",
              "end_lng                 103\n",
              "member_casual             0\n",
              "dtype: int64"
            ]
          },
          "metadata": {},
          "execution_count": 46
        }
      ]
    },
    {
      "cell_type": "code",
      "source": [
        "df = df.drop(columns = ['start_station_name', 'start_station_id', 'end_station_name', 'end_station_id'])\n",
        "df.isna().sum()"
      ],
      "metadata": {
        "id": "n5yv4aC6zF_A",
        "outputId": "c97a30d9-e540-40a6-92bf-7dfdc4526533",
        "colab": {
          "base_uri": "https://localhost:8080/"
        }
      },
      "execution_count": 47,
      "outputs": [
        {
          "output_type": "execute_result",
          "data": {
            "text/plain": [
              "ride_id            0\n",
              "rideable_type      0\n",
              "started_at         0\n",
              "ended_at           0\n",
              "start_lat          0\n",
              "start_lng          0\n",
              "end_lat          103\n",
              "end_lng          103\n",
              "member_casual      0\n",
              "dtype: int64"
            ]
          },
          "metadata": {},
          "execution_count": 47
        }
      ]
    },
    {
      "cell_type": "code",
      "source": [
        "df=df.dropna()"
      ],
      "metadata": {
        "id": "z5e8d4XL0GQB"
      },
      "execution_count": 48,
      "outputs": []
    },
    {
      "cell_type": "markdown",
      "source": [
        "Converter os tipos dos dados"
      ],
      "metadata": {
        "id": "zU2U9IEz3InF"
      }
    },
    {
      "cell_type": "code",
      "source": [
        "df.dtypes"
      ],
      "metadata": {
        "id": "4NA4ojtC0myx",
        "outputId": "23fa3552-7afa-4a13-c270-5f8f558b6451",
        "colab": {
          "base_uri": "https://localhost:8080/"
        }
      },
      "execution_count": 49,
      "outputs": [
        {
          "output_type": "execute_result",
          "data": {
            "text/plain": [
              "ride_id           object\n",
              "rideable_type     object\n",
              "started_at        object\n",
              "ended_at          object\n",
              "start_lat        float64\n",
              "start_lng        float64\n",
              "end_lat          float64\n",
              "end_lng          float64\n",
              "member_casual     object\n",
              "dtype: object"
            ]
          },
          "metadata": {},
          "execution_count": 49
        }
      ]
    },
    {
      "cell_type": "code",
      "source": [
        "df['started_at']=pd.to_datetime(df['started_at'],format='%Y-%m-%d %H:%M:%S')\n",
        "df['ended_at']=pd.to_datetime(df['ended_at'],format='%Y-%m-%d %H:%M:%S')"
      ],
      "metadata": {
        "id": "cLAaAcbn1_hQ"
      },
      "execution_count": 50,
      "outputs": []
    },
    {
      "cell_type": "code",
      "source": [
        "df.dtypes"
      ],
      "metadata": {
        "colab": {
          "base_uri": "https://localhost:8080/"
        },
        "id": "diSF9Gnax-N6",
        "outputId": "ceefcd0e-3275-484e-fc2d-269913154c34"
      },
      "execution_count": 51,
      "outputs": [
        {
          "output_type": "execute_result",
          "data": {
            "text/plain": [
              "ride_id                  object\n",
              "rideable_type            object\n",
              "started_at       datetime64[ns]\n",
              "ended_at         datetime64[ns]\n",
              "start_lat               float64\n",
              "start_lng               float64\n",
              "end_lat                 float64\n",
              "end_lng                 float64\n",
              "member_casual            object\n",
              "dtype: object"
            ]
          },
          "metadata": {},
          "execution_count": 51
        }
      ]
    },
    {
      "cell_type": "markdown",
      "source": [
        "Criando uma coluna nova. A coluna `duration` representa a duração da corrida de bicicleta em minutos.\n",
        "\n"
      ],
      "metadata": {
        "id": "T2J_bPE23YfJ"
      }
    },
    {
      "cell_type": "code",
      "source": [
        "df['duration']=df['ended_at']-df['started_at']\n",
        "df['duration']=df['duration'].apply(lambda x : x.total_seconds()/60)\n",
        "df.head()"
      ],
      "metadata": {
        "colab": {
          "base_uri": "https://localhost:8080/",
          "height": 444
        },
        "id": "G3hlGuZgykDs",
        "outputId": "ff033093-df5d-41a0-dd15-87da6e375f4d"
      },
      "execution_count": 52,
      "outputs": [
        {
          "output_type": "execute_result",
          "data": {
            "text/plain": [
              "            ride_id  rideable_type          started_at            ended_at  \\\n",
              "0  E19E6F1B8D4C42ED  electric_bike 2021-01-23 16:14:19 2021-01-23 16:24:44   \n",
              "1  DC88F20C2C55F27F  electric_bike 2021-01-27 18:43:08 2021-01-27 18:47:12   \n",
              "2  EC45C94683FE3F27  electric_bike 2021-01-21 22:35:54 2021-01-21 22:37:14   \n",
              "3  4FA453A75AE377DB  electric_bike 2021-01-07 13:31:13 2021-01-07 13:42:55   \n",
              "4  BE5E8EB4E7263A0B  electric_bike 2021-01-23 02:24:02 2021-01-23 02:24:45   \n",
              "\n",
              "   start_lat  start_lng  end_lat  end_lng member_casual   duration  \n",
              "0  41.900341 -87.696743    41.89   -87.72        member  10.416667  \n",
              "1  41.900333 -87.696707    41.90   -87.69        member   4.066667  \n",
              "2  41.900313 -87.696643    41.90   -87.70        member   1.333333  \n",
              "3  41.900399 -87.696662    41.92   -87.69        member  11.700000  \n",
              "4  41.900326 -87.696697    41.90   -87.70        casual   0.716667  "
            ],
            "text/html": [
              "\n",
              "  <div id=\"df-f260d8a2-9ab5-434f-a5c0-63cd91013bbf\">\n",
              "    <div class=\"colab-df-container\">\n",
              "      <div>\n",
              "<style scoped>\n",
              "    .dataframe tbody tr th:only-of-type {\n",
              "        vertical-align: middle;\n",
              "    }\n",
              "\n",
              "    .dataframe tbody tr th {\n",
              "        vertical-align: top;\n",
              "    }\n",
              "\n",
              "    .dataframe thead th {\n",
              "        text-align: right;\n",
              "    }\n",
              "</style>\n",
              "<table border=\"1\" class=\"dataframe\">\n",
              "  <thead>\n",
              "    <tr style=\"text-align: right;\">\n",
              "      <th></th>\n",
              "      <th>ride_id</th>\n",
              "      <th>rideable_type</th>\n",
              "      <th>started_at</th>\n",
              "      <th>ended_at</th>\n",
              "      <th>start_lat</th>\n",
              "      <th>start_lng</th>\n",
              "      <th>end_lat</th>\n",
              "      <th>end_lng</th>\n",
              "      <th>member_casual</th>\n",
              "      <th>duration</th>\n",
              "    </tr>\n",
              "  </thead>\n",
              "  <tbody>\n",
              "    <tr>\n",
              "      <th>0</th>\n",
              "      <td>E19E6F1B8D4C42ED</td>\n",
              "      <td>electric_bike</td>\n",
              "      <td>2021-01-23 16:14:19</td>\n",
              "      <td>2021-01-23 16:24:44</td>\n",
              "      <td>41.900341</td>\n",
              "      <td>-87.696743</td>\n",
              "      <td>41.89</td>\n",
              "      <td>-87.72</td>\n",
              "      <td>member</td>\n",
              "      <td>10.416667</td>\n",
              "    </tr>\n",
              "    <tr>\n",
              "      <th>1</th>\n",
              "      <td>DC88F20C2C55F27F</td>\n",
              "      <td>electric_bike</td>\n",
              "      <td>2021-01-27 18:43:08</td>\n",
              "      <td>2021-01-27 18:47:12</td>\n",
              "      <td>41.900333</td>\n",
              "      <td>-87.696707</td>\n",
              "      <td>41.90</td>\n",
              "      <td>-87.69</td>\n",
              "      <td>member</td>\n",
              "      <td>4.066667</td>\n",
              "    </tr>\n",
              "    <tr>\n",
              "      <th>2</th>\n",
              "      <td>EC45C94683FE3F27</td>\n",
              "      <td>electric_bike</td>\n",
              "      <td>2021-01-21 22:35:54</td>\n",
              "      <td>2021-01-21 22:37:14</td>\n",
              "      <td>41.900313</td>\n",
              "      <td>-87.696643</td>\n",
              "      <td>41.90</td>\n",
              "      <td>-87.70</td>\n",
              "      <td>member</td>\n",
              "      <td>1.333333</td>\n",
              "    </tr>\n",
              "    <tr>\n",
              "      <th>3</th>\n",
              "      <td>4FA453A75AE377DB</td>\n",
              "      <td>electric_bike</td>\n",
              "      <td>2021-01-07 13:31:13</td>\n",
              "      <td>2021-01-07 13:42:55</td>\n",
              "      <td>41.900399</td>\n",
              "      <td>-87.696662</td>\n",
              "      <td>41.92</td>\n",
              "      <td>-87.69</td>\n",
              "      <td>member</td>\n",
              "      <td>11.700000</td>\n",
              "    </tr>\n",
              "    <tr>\n",
              "      <th>4</th>\n",
              "      <td>BE5E8EB4E7263A0B</td>\n",
              "      <td>electric_bike</td>\n",
              "      <td>2021-01-23 02:24:02</td>\n",
              "      <td>2021-01-23 02:24:45</td>\n",
              "      <td>41.900326</td>\n",
              "      <td>-87.696697</td>\n",
              "      <td>41.90</td>\n",
              "      <td>-87.70</td>\n",
              "      <td>casual</td>\n",
              "      <td>0.716667</td>\n",
              "    </tr>\n",
              "  </tbody>\n",
              "</table>\n",
              "</div>\n",
              "      <button class=\"colab-df-convert\" onclick=\"convertToInteractive('df-f260d8a2-9ab5-434f-a5c0-63cd91013bbf')\"\n",
              "              title=\"Convert this dataframe to an interactive table.\"\n",
              "              style=\"display:none;\">\n",
              "        \n",
              "  <svg xmlns=\"http://www.w3.org/2000/svg\" height=\"24px\"viewBox=\"0 0 24 24\"\n",
              "       width=\"24px\">\n",
              "    <path d=\"M0 0h24v24H0V0z\" fill=\"none\"/>\n",
              "    <path d=\"M18.56 5.44l.94 2.06.94-2.06 2.06-.94-2.06-.94-.94-2.06-.94 2.06-2.06.94zm-11 1L8.5 8.5l.94-2.06 2.06-.94-2.06-.94L8.5 2.5l-.94 2.06-2.06.94zm10 10l.94 2.06.94-2.06 2.06-.94-2.06-.94-.94-2.06-.94 2.06-2.06.94z\"/><path d=\"M17.41 7.96l-1.37-1.37c-.4-.4-.92-.59-1.43-.59-.52 0-1.04.2-1.43.59L10.3 9.45l-7.72 7.72c-.78.78-.78 2.05 0 2.83L4 21.41c.39.39.9.59 1.41.59.51 0 1.02-.2 1.41-.59l7.78-7.78 2.81-2.81c.8-.78.8-2.07 0-2.86zM5.41 20L4 18.59l7.72-7.72 1.47 1.35L5.41 20z\"/>\n",
              "  </svg>\n",
              "      </button>\n",
              "      \n",
              "  <style>\n",
              "    .colab-df-container {\n",
              "      display:flex;\n",
              "      flex-wrap:wrap;\n",
              "      gap: 12px;\n",
              "    }\n",
              "\n",
              "    .colab-df-convert {\n",
              "      background-color: #E8F0FE;\n",
              "      border: none;\n",
              "      border-radius: 50%;\n",
              "      cursor: pointer;\n",
              "      display: none;\n",
              "      fill: #1967D2;\n",
              "      height: 32px;\n",
              "      padding: 0 0 0 0;\n",
              "      width: 32px;\n",
              "    }\n",
              "\n",
              "    .colab-df-convert:hover {\n",
              "      background-color: #E2EBFA;\n",
              "      box-shadow: 0px 1px 2px rgba(60, 64, 67, 0.3), 0px 1px 3px 1px rgba(60, 64, 67, 0.15);\n",
              "      fill: #174EA6;\n",
              "    }\n",
              "\n",
              "    [theme=dark] .colab-df-convert {\n",
              "      background-color: #3B4455;\n",
              "      fill: #D2E3FC;\n",
              "    }\n",
              "\n",
              "    [theme=dark] .colab-df-convert:hover {\n",
              "      background-color: #434B5C;\n",
              "      box-shadow: 0px 1px 3px 1px rgba(0, 0, 0, 0.15);\n",
              "      filter: drop-shadow(0px 1px 2px rgba(0, 0, 0, 0.3));\n",
              "      fill: #FFFFFF;\n",
              "    }\n",
              "  </style>\n",
              "\n",
              "      <script>\n",
              "        const buttonEl =\n",
              "          document.querySelector('#df-f260d8a2-9ab5-434f-a5c0-63cd91013bbf button.colab-df-convert');\n",
              "        buttonEl.style.display =\n",
              "          google.colab.kernel.accessAllowed ? 'block' : 'none';\n",
              "\n",
              "        async function convertToInteractive(key) {\n",
              "          const element = document.querySelector('#df-f260d8a2-9ab5-434f-a5c0-63cd91013bbf');\n",
              "          const dataTable =\n",
              "            await google.colab.kernel.invokeFunction('convertToInteractive',\n",
              "                                                     [key], {});\n",
              "          if (!dataTable) return;\n",
              "\n",
              "          const docLinkHtml = 'Like what you see? Visit the ' +\n",
              "            '<a target=\"_blank\" href=https://colab.research.google.com/notebooks/data_table.ipynb>data table notebook</a>'\n",
              "            + ' to learn more about interactive tables.';\n",
              "          element.innerHTML = '';\n",
              "          dataTable['output_type'] = 'display_data';\n",
              "          await google.colab.output.renderOutput(dataTable, element);\n",
              "          const docLink = document.createElement('div');\n",
              "          docLink.innerHTML = docLinkHtml;\n",
              "          element.appendChild(docLink);\n",
              "        }\n",
              "      </script>\n",
              "    </div>\n",
              "  </div>\n",
              "  "
            ]
          },
          "metadata": {},
          "execution_count": 52
        }
      ]
    },
    {
      "cell_type": "markdown",
      "source": [
        "Removendo corridas com duração negativa."
      ],
      "metadata": {
        "id": "YRjlvpJVW03f"
      }
    },
    {
      "cell_type": "code",
      "source": [
        "df=df[df['duration']>=0]"
      ],
      "metadata": {
        "id": "Y7SGBKLhIHym"
      },
      "execution_count": 53,
      "outputs": []
    },
    {
      "cell_type": "markdown",
      "source": [
        "\n",
        "\n",
        "## Visualização\n",
        "\n",
        "Gerando algumas visualizações em tabelas e graficos."
      ],
      "metadata": {
        "id": "H3ad4Hdl3jAb"
      }
    },
    {
      "cell_type": "code",
      "source": [
        "df_member= df[df['member_casual']=='member']\n",
        "df_casual= df[df['member_casual']=='casual']"
      ],
      "metadata": {
        "id": "VXlSPQBh3pKg"
      },
      "execution_count": 54,
      "outputs": []
    },
    {
      "cell_type": "code",
      "source": [
        "df_member.head()\n",
        "\n"
      ],
      "metadata": {
        "colab": {
          "base_uri": "https://localhost:8080/",
          "height": 0
        },
        "id": "DhZA5mi23hOQ",
        "outputId": "0d0cd0b8-eb02-4d1d-d0b0-f87056ea5054"
      },
      "execution_count": 55,
      "outputs": [
        {
          "output_type": "execute_result",
          "data": {
            "text/plain": [
              "            ride_id  rideable_type          started_at            ended_at  \\\n",
              "0  E19E6F1B8D4C42ED  electric_bike 2021-01-23 16:14:19 2021-01-23 16:24:44   \n",
              "1  DC88F20C2C55F27F  electric_bike 2021-01-27 18:43:08 2021-01-27 18:47:12   \n",
              "2  EC45C94683FE3F27  electric_bike 2021-01-21 22:35:54 2021-01-21 22:37:14   \n",
              "3  4FA453A75AE377DB  electric_bike 2021-01-07 13:31:13 2021-01-07 13:42:55   \n",
              "6  09275CC10F854E9E  electric_bike 2021-01-04 05:05:04 2021-01-04 05:10:39   \n",
              "\n",
              "   start_lat  start_lng  end_lat  end_lng member_casual   duration  \n",
              "0  41.900341 -87.696743    41.89   -87.72        member  10.416667  \n",
              "1  41.900333 -87.696707    41.90   -87.69        member   4.066667  \n",
              "2  41.900313 -87.696643    41.90   -87.70        member   1.333333  \n",
              "3  41.900399 -87.696662    41.92   -87.69        member  11.700000  \n",
              "6  41.900391 -87.696757    41.90   -87.71        member   5.583333  "
            ],
            "text/html": [
              "\n",
              "  <div id=\"df-848c33c3-fbaa-42d0-886d-20106b1624ab\">\n",
              "    <div class=\"colab-df-container\">\n",
              "      <div>\n",
              "<style scoped>\n",
              "    .dataframe tbody tr th:only-of-type {\n",
              "        vertical-align: middle;\n",
              "    }\n",
              "\n",
              "    .dataframe tbody tr th {\n",
              "        vertical-align: top;\n",
              "    }\n",
              "\n",
              "    .dataframe thead th {\n",
              "        text-align: right;\n",
              "    }\n",
              "</style>\n",
              "<table border=\"1\" class=\"dataframe\">\n",
              "  <thead>\n",
              "    <tr style=\"text-align: right;\">\n",
              "      <th></th>\n",
              "      <th>ride_id</th>\n",
              "      <th>rideable_type</th>\n",
              "      <th>started_at</th>\n",
              "      <th>ended_at</th>\n",
              "      <th>start_lat</th>\n",
              "      <th>start_lng</th>\n",
              "      <th>end_lat</th>\n",
              "      <th>end_lng</th>\n",
              "      <th>member_casual</th>\n",
              "      <th>duration</th>\n",
              "    </tr>\n",
              "  </thead>\n",
              "  <tbody>\n",
              "    <tr>\n",
              "      <th>0</th>\n",
              "      <td>E19E6F1B8D4C42ED</td>\n",
              "      <td>electric_bike</td>\n",
              "      <td>2021-01-23 16:14:19</td>\n",
              "      <td>2021-01-23 16:24:44</td>\n",
              "      <td>41.900341</td>\n",
              "      <td>-87.696743</td>\n",
              "      <td>41.89</td>\n",
              "      <td>-87.72</td>\n",
              "      <td>member</td>\n",
              "      <td>10.416667</td>\n",
              "    </tr>\n",
              "    <tr>\n",
              "      <th>1</th>\n",
              "      <td>DC88F20C2C55F27F</td>\n",
              "      <td>electric_bike</td>\n",
              "      <td>2021-01-27 18:43:08</td>\n",
              "      <td>2021-01-27 18:47:12</td>\n",
              "      <td>41.900333</td>\n",
              "      <td>-87.696707</td>\n",
              "      <td>41.90</td>\n",
              "      <td>-87.69</td>\n",
              "      <td>member</td>\n",
              "      <td>4.066667</td>\n",
              "    </tr>\n",
              "    <tr>\n",
              "      <th>2</th>\n",
              "      <td>EC45C94683FE3F27</td>\n",
              "      <td>electric_bike</td>\n",
              "      <td>2021-01-21 22:35:54</td>\n",
              "      <td>2021-01-21 22:37:14</td>\n",
              "      <td>41.900313</td>\n",
              "      <td>-87.696643</td>\n",
              "      <td>41.90</td>\n",
              "      <td>-87.70</td>\n",
              "      <td>member</td>\n",
              "      <td>1.333333</td>\n",
              "    </tr>\n",
              "    <tr>\n",
              "      <th>3</th>\n",
              "      <td>4FA453A75AE377DB</td>\n",
              "      <td>electric_bike</td>\n",
              "      <td>2021-01-07 13:31:13</td>\n",
              "      <td>2021-01-07 13:42:55</td>\n",
              "      <td>41.900399</td>\n",
              "      <td>-87.696662</td>\n",
              "      <td>41.92</td>\n",
              "      <td>-87.69</td>\n",
              "      <td>member</td>\n",
              "      <td>11.700000</td>\n",
              "    </tr>\n",
              "    <tr>\n",
              "      <th>6</th>\n",
              "      <td>09275CC10F854E9E</td>\n",
              "      <td>electric_bike</td>\n",
              "      <td>2021-01-04 05:05:04</td>\n",
              "      <td>2021-01-04 05:10:39</td>\n",
              "      <td>41.900391</td>\n",
              "      <td>-87.696757</td>\n",
              "      <td>41.90</td>\n",
              "      <td>-87.71</td>\n",
              "      <td>member</td>\n",
              "      <td>5.583333</td>\n",
              "    </tr>\n",
              "  </tbody>\n",
              "</table>\n",
              "</div>\n",
              "      <button class=\"colab-df-convert\" onclick=\"convertToInteractive('df-848c33c3-fbaa-42d0-886d-20106b1624ab')\"\n",
              "              title=\"Convert this dataframe to an interactive table.\"\n",
              "              style=\"display:none;\">\n",
              "        \n",
              "  <svg xmlns=\"http://www.w3.org/2000/svg\" height=\"24px\"viewBox=\"0 0 24 24\"\n",
              "       width=\"24px\">\n",
              "    <path d=\"M0 0h24v24H0V0z\" fill=\"none\"/>\n",
              "    <path d=\"M18.56 5.44l.94 2.06.94-2.06 2.06-.94-2.06-.94-.94-2.06-.94 2.06-2.06.94zm-11 1L8.5 8.5l.94-2.06 2.06-.94-2.06-.94L8.5 2.5l-.94 2.06-2.06.94zm10 10l.94 2.06.94-2.06 2.06-.94-2.06-.94-.94-2.06-.94 2.06-2.06.94z\"/><path d=\"M17.41 7.96l-1.37-1.37c-.4-.4-.92-.59-1.43-.59-.52 0-1.04.2-1.43.59L10.3 9.45l-7.72 7.72c-.78.78-.78 2.05 0 2.83L4 21.41c.39.39.9.59 1.41.59.51 0 1.02-.2 1.41-.59l7.78-7.78 2.81-2.81c.8-.78.8-2.07 0-2.86zM5.41 20L4 18.59l7.72-7.72 1.47 1.35L5.41 20z\"/>\n",
              "  </svg>\n",
              "      </button>\n",
              "      \n",
              "  <style>\n",
              "    .colab-df-container {\n",
              "      display:flex;\n",
              "      flex-wrap:wrap;\n",
              "      gap: 12px;\n",
              "    }\n",
              "\n",
              "    .colab-df-convert {\n",
              "      background-color: #E8F0FE;\n",
              "      border: none;\n",
              "      border-radius: 50%;\n",
              "      cursor: pointer;\n",
              "      display: none;\n",
              "      fill: #1967D2;\n",
              "      height: 32px;\n",
              "      padding: 0 0 0 0;\n",
              "      width: 32px;\n",
              "    }\n",
              "\n",
              "    .colab-df-convert:hover {\n",
              "      background-color: #E2EBFA;\n",
              "      box-shadow: 0px 1px 2px rgba(60, 64, 67, 0.3), 0px 1px 3px 1px rgba(60, 64, 67, 0.15);\n",
              "      fill: #174EA6;\n",
              "    }\n",
              "\n",
              "    [theme=dark] .colab-df-convert {\n",
              "      background-color: #3B4455;\n",
              "      fill: #D2E3FC;\n",
              "    }\n",
              "\n",
              "    [theme=dark] .colab-df-convert:hover {\n",
              "      background-color: #434B5C;\n",
              "      box-shadow: 0px 1px 3px 1px rgba(0, 0, 0, 0.15);\n",
              "      filter: drop-shadow(0px 1px 2px rgba(0, 0, 0, 0.3));\n",
              "      fill: #FFFFFF;\n",
              "    }\n",
              "  </style>\n",
              "\n",
              "      <script>\n",
              "        const buttonEl =\n",
              "          document.querySelector('#df-848c33c3-fbaa-42d0-886d-20106b1624ab button.colab-df-convert');\n",
              "        buttonEl.style.display =\n",
              "          google.colab.kernel.accessAllowed ? 'block' : 'none';\n",
              "\n",
              "        async function convertToInteractive(key) {\n",
              "          const element = document.querySelector('#df-848c33c3-fbaa-42d0-886d-20106b1624ab');\n",
              "          const dataTable =\n",
              "            await google.colab.kernel.invokeFunction('convertToInteractive',\n",
              "                                                     [key], {});\n",
              "          if (!dataTable) return;\n",
              "\n",
              "          const docLinkHtml = 'Like what you see? Visit the ' +\n",
              "            '<a target=\"_blank\" href=https://colab.research.google.com/notebooks/data_table.ipynb>data table notebook</a>'\n",
              "            + ' to learn more about interactive tables.';\n",
              "          element.innerHTML = '';\n",
              "          dataTable['output_type'] = 'display_data';\n",
              "          await google.colab.output.renderOutput(dataTable, element);\n",
              "          const docLink = document.createElement('div');\n",
              "          docLink.innerHTML = docLinkHtml;\n",
              "          element.appendChild(docLink);\n",
              "        }\n",
              "      </script>\n",
              "    </div>\n",
              "  </div>\n",
              "  "
            ]
          },
          "metadata": {},
          "execution_count": 55
        }
      ]
    },
    {
      "cell_type": "code",
      "source": [
        "df_casual.head()"
      ],
      "metadata": {
        "colab": {
          "base_uri": "https://localhost:8080/",
          "height": 0
        },
        "id": "Lq1Jb_0n6gdS",
        "outputId": "b6d9e7a2-2a50-4f83-b9ff-49c919c27078"
      },
      "execution_count": 56,
      "outputs": [
        {
          "output_type": "execute_result",
          "data": {
            "text/plain": [
              "             ride_id  rideable_type          started_at            ended_at  \\\n",
              "4   BE5E8EB4E7263A0B  electric_bike 2021-01-23 02:24:02 2021-01-23 02:24:45   \n",
              "5   5D8969F88C773979  electric_bike 2021-01-09 14:24:07 2021-01-09 15:17:54   \n",
              "11  57C750326F9FDABE  electric_bike 2021-01-09 15:28:04 2021-01-09 15:37:51   \n",
              "12  4D518C65E338D070  electric_bike 2021-01-09 15:28:57 2021-01-09 15:37:54   \n",
              "13  9D08A3AFF410474D   classic_bike 2021-01-24 15:56:59 2021-01-24 16:07:08   \n",
              "\n",
              "    start_lat  start_lng    end_lat    end_lng member_casual   duration  \n",
              "4   41.900326 -87.696697  41.900000 -87.700000        casual   0.716667  \n",
              "5   41.900409 -87.696763  41.940000 -87.710000        casual  53.783333  \n",
              "11  41.900374 -87.696688  41.899180 -87.672178        casual   9.783333  \n",
              "12  41.900379 -87.696716  41.899149 -87.672177        casual   8.950000  \n",
              "13  41.900363 -87.696704  41.899181 -87.672200        casual  10.150000  "
            ],
            "text/html": [
              "\n",
              "  <div id=\"df-99e2496d-6e0e-4e58-8d17-d593709f880b\">\n",
              "    <div class=\"colab-df-container\">\n",
              "      <div>\n",
              "<style scoped>\n",
              "    .dataframe tbody tr th:only-of-type {\n",
              "        vertical-align: middle;\n",
              "    }\n",
              "\n",
              "    .dataframe tbody tr th {\n",
              "        vertical-align: top;\n",
              "    }\n",
              "\n",
              "    .dataframe thead th {\n",
              "        text-align: right;\n",
              "    }\n",
              "</style>\n",
              "<table border=\"1\" class=\"dataframe\">\n",
              "  <thead>\n",
              "    <tr style=\"text-align: right;\">\n",
              "      <th></th>\n",
              "      <th>ride_id</th>\n",
              "      <th>rideable_type</th>\n",
              "      <th>started_at</th>\n",
              "      <th>ended_at</th>\n",
              "      <th>start_lat</th>\n",
              "      <th>start_lng</th>\n",
              "      <th>end_lat</th>\n",
              "      <th>end_lng</th>\n",
              "      <th>member_casual</th>\n",
              "      <th>duration</th>\n",
              "    </tr>\n",
              "  </thead>\n",
              "  <tbody>\n",
              "    <tr>\n",
              "      <th>4</th>\n",
              "      <td>BE5E8EB4E7263A0B</td>\n",
              "      <td>electric_bike</td>\n",
              "      <td>2021-01-23 02:24:02</td>\n",
              "      <td>2021-01-23 02:24:45</td>\n",
              "      <td>41.900326</td>\n",
              "      <td>-87.696697</td>\n",
              "      <td>41.900000</td>\n",
              "      <td>-87.700000</td>\n",
              "      <td>casual</td>\n",
              "      <td>0.716667</td>\n",
              "    </tr>\n",
              "    <tr>\n",
              "      <th>5</th>\n",
              "      <td>5D8969F88C773979</td>\n",
              "      <td>electric_bike</td>\n",
              "      <td>2021-01-09 14:24:07</td>\n",
              "      <td>2021-01-09 15:17:54</td>\n",
              "      <td>41.900409</td>\n",
              "      <td>-87.696763</td>\n",
              "      <td>41.940000</td>\n",
              "      <td>-87.710000</td>\n",
              "      <td>casual</td>\n",
              "      <td>53.783333</td>\n",
              "    </tr>\n",
              "    <tr>\n",
              "      <th>11</th>\n",
              "      <td>57C750326F9FDABE</td>\n",
              "      <td>electric_bike</td>\n",
              "      <td>2021-01-09 15:28:04</td>\n",
              "      <td>2021-01-09 15:37:51</td>\n",
              "      <td>41.900374</td>\n",
              "      <td>-87.696688</td>\n",
              "      <td>41.899180</td>\n",
              "      <td>-87.672178</td>\n",
              "      <td>casual</td>\n",
              "      <td>9.783333</td>\n",
              "    </tr>\n",
              "    <tr>\n",
              "      <th>12</th>\n",
              "      <td>4D518C65E338D070</td>\n",
              "      <td>electric_bike</td>\n",
              "      <td>2021-01-09 15:28:57</td>\n",
              "      <td>2021-01-09 15:37:54</td>\n",
              "      <td>41.900379</td>\n",
              "      <td>-87.696716</td>\n",
              "      <td>41.899149</td>\n",
              "      <td>-87.672177</td>\n",
              "      <td>casual</td>\n",
              "      <td>8.950000</td>\n",
              "    </tr>\n",
              "    <tr>\n",
              "      <th>13</th>\n",
              "      <td>9D08A3AFF410474D</td>\n",
              "      <td>classic_bike</td>\n",
              "      <td>2021-01-24 15:56:59</td>\n",
              "      <td>2021-01-24 16:07:08</td>\n",
              "      <td>41.900363</td>\n",
              "      <td>-87.696704</td>\n",
              "      <td>41.899181</td>\n",
              "      <td>-87.672200</td>\n",
              "      <td>casual</td>\n",
              "      <td>10.150000</td>\n",
              "    </tr>\n",
              "  </tbody>\n",
              "</table>\n",
              "</div>\n",
              "      <button class=\"colab-df-convert\" onclick=\"convertToInteractive('df-99e2496d-6e0e-4e58-8d17-d593709f880b')\"\n",
              "              title=\"Convert this dataframe to an interactive table.\"\n",
              "              style=\"display:none;\">\n",
              "        \n",
              "  <svg xmlns=\"http://www.w3.org/2000/svg\" height=\"24px\"viewBox=\"0 0 24 24\"\n",
              "       width=\"24px\">\n",
              "    <path d=\"M0 0h24v24H0V0z\" fill=\"none\"/>\n",
              "    <path d=\"M18.56 5.44l.94 2.06.94-2.06 2.06-.94-2.06-.94-.94-2.06-.94 2.06-2.06.94zm-11 1L8.5 8.5l.94-2.06 2.06-.94-2.06-.94L8.5 2.5l-.94 2.06-2.06.94zm10 10l.94 2.06.94-2.06 2.06-.94-2.06-.94-.94-2.06-.94 2.06-2.06.94z\"/><path d=\"M17.41 7.96l-1.37-1.37c-.4-.4-.92-.59-1.43-.59-.52 0-1.04.2-1.43.59L10.3 9.45l-7.72 7.72c-.78.78-.78 2.05 0 2.83L4 21.41c.39.39.9.59 1.41.59.51 0 1.02-.2 1.41-.59l7.78-7.78 2.81-2.81c.8-.78.8-2.07 0-2.86zM5.41 20L4 18.59l7.72-7.72 1.47 1.35L5.41 20z\"/>\n",
              "  </svg>\n",
              "      </button>\n",
              "      \n",
              "  <style>\n",
              "    .colab-df-container {\n",
              "      display:flex;\n",
              "      flex-wrap:wrap;\n",
              "      gap: 12px;\n",
              "    }\n",
              "\n",
              "    .colab-df-convert {\n",
              "      background-color: #E8F0FE;\n",
              "      border: none;\n",
              "      border-radius: 50%;\n",
              "      cursor: pointer;\n",
              "      display: none;\n",
              "      fill: #1967D2;\n",
              "      height: 32px;\n",
              "      padding: 0 0 0 0;\n",
              "      width: 32px;\n",
              "    }\n",
              "\n",
              "    .colab-df-convert:hover {\n",
              "      background-color: #E2EBFA;\n",
              "      box-shadow: 0px 1px 2px rgba(60, 64, 67, 0.3), 0px 1px 3px 1px rgba(60, 64, 67, 0.15);\n",
              "      fill: #174EA6;\n",
              "    }\n",
              "\n",
              "    [theme=dark] .colab-df-convert {\n",
              "      background-color: #3B4455;\n",
              "      fill: #D2E3FC;\n",
              "    }\n",
              "\n",
              "    [theme=dark] .colab-df-convert:hover {\n",
              "      background-color: #434B5C;\n",
              "      box-shadow: 0px 1px 3px 1px rgba(0, 0, 0, 0.15);\n",
              "      filter: drop-shadow(0px 1px 2px rgba(0, 0, 0, 0.3));\n",
              "      fill: #FFFFFF;\n",
              "    }\n",
              "  </style>\n",
              "\n",
              "      <script>\n",
              "        const buttonEl =\n",
              "          document.querySelector('#df-99e2496d-6e0e-4e58-8d17-d593709f880b button.colab-df-convert');\n",
              "        buttonEl.style.display =\n",
              "          google.colab.kernel.accessAllowed ? 'block' : 'none';\n",
              "\n",
              "        async function convertToInteractive(key) {\n",
              "          const element = document.querySelector('#df-99e2496d-6e0e-4e58-8d17-d593709f880b');\n",
              "          const dataTable =\n",
              "            await google.colab.kernel.invokeFunction('convertToInteractive',\n",
              "                                                     [key], {});\n",
              "          if (!dataTable) return;\n",
              "\n",
              "          const docLinkHtml = 'Like what you see? Visit the ' +\n",
              "            '<a target=\"_blank\" href=https://colab.research.google.com/notebooks/data_table.ipynb>data table notebook</a>'\n",
              "            + ' to learn more about interactive tables.';\n",
              "          element.innerHTML = '';\n",
              "          dataTable['output_type'] = 'display_data';\n",
              "          await google.colab.output.renderOutput(dataTable, element);\n",
              "          const docLink = document.createElement('div');\n",
              "          docLink.innerHTML = docLinkHtml;\n",
              "          element.appendChild(docLink);\n",
              "        }\n",
              "      </script>\n",
              "    </div>\n",
              "  </div>\n",
              "  "
            ]
          },
          "metadata": {},
          "execution_count": 56
        }
      ]
    },
    {
      "cell_type": "code",
      "source": [
        "figura, eixos=plt.subplots(1,2)\n",
        "eixos[0].hist(df_casual['duration'],range=(0,25),ec='white')\n",
        "eixos[1].hist(df_member['duration'],range=(0,25),ec='white')"
      ],
      "metadata": {
        "colab": {
          "base_uri": "https://localhost:8080/",
          "height": 0
        },
        "id": "qrJd804e7bJe",
        "outputId": "56f24454-afc2-47e8-e9c8-0b4d36bbef8c"
      },
      "execution_count": 57,
      "outputs": [
        {
          "output_type": "execute_result",
          "data": {
            "text/plain": [
              "(array([ 3983., 13965., 15337., 11424.,  8180.,  5872.,  4414.,  3462.,\n",
              "         2498.,  1909.]),\n",
              " array([ 0. ,  2.5,  5. ,  7.5, 10. , 12.5, 15. , 17.5, 20. , 22.5, 25. ]),\n",
              " <a list of 10 Patch objects>)"
            ]
          },
          "metadata": {},
          "execution_count": 57
        },
        {
          "output_type": "display_data",
          "data": {
            "text/plain": [
              "<Figure size 432x288 with 2 Axes>"
            ],
            "image/png": "[encoded data removed]"
          },
          "metadata": {
            "needs_background": "light"
          }
        }
      ]
    },
    {
      "cell_type": "markdown",
      "source": [
        "Agora vamos ver valores de media, quantis, desvio padrão, minimo e maximo.\n",
        "dividimos os dados em usuario casual e member."
      ],
      "metadata": {
        "id": "YwVJg3lBKIKq"
      }
    },
    {
      "cell_type": "code",
      "source": [
        "df_casual['duration'].describe()"
      ],
      "metadata": {
        "colab": {
          "base_uri": "https://localhost:8080/"
        },
        "id": "5PajQusfGFkA",
        "outputId": "01c08b65-d37e-4192-85b9-5ff256346ed3"
      },
      "execution_count": 58,
      "outputs": [
        {
          "output_type": "execute_result",
          "data": {
            "text/plain": [
              "count    18095.000000\n",
              "mean        24.467703\n",
              "std        178.506708\n",
              "min          0.016667\n",
              "25%          7.366667\n",
              "50%         12.266667\n",
              "75%         22.450000\n",
              "max      19825.916667\n",
              "Name: duration, dtype: float64"
            ]
          },
          "metadata": {},
          "execution_count": 58
        }
      ]
    },
    {
      "cell_type": "code",
      "source": [
        "df_member['duration'].describe()"
      ],
      "metadata": {
        "colab": {
          "base_uri": "https://localhost:8080/"
        },
        "id": "zs9BTJQdHAcW",
        "outputId": "66831740-2976-4031-9595-341da8a2ab20"
      },
      "execution_count": 59,
      "outputs": [
        {
          "output_type": "execute_result",
          "data": {
            "text/plain": [
              "count    78635.000000\n",
              "mean        12.494131\n",
              "std         23.833740\n",
              "min          0.000000\n",
              "25%          5.250000\n",
              "50%          8.683333\n",
              "75%         15.083333\n",
              "max       1470.166667\n",
              "Name: duration, dtype: float64"
            ]
          },
          "metadata": {},
          "execution_count": 59
        }
      ]
    },
    {
      "cell_type": "markdown",
      "source": [
        "As medias estão muito distantes das medianas e isso se deve aos outlier, as medianas são similares o que indica que não ha correlação entre ser member e a duração da corrida."
      ],
      "metadata": {
        "id": "WkeH6JfrKkRk"
      }
    },
    {
      "cell_type": "code",
      "source": [
        "df_electric= df[df['rideable_type']=='electric_bike']\n",
        "df_classic= df[df['rideable_type']=='classic_bike']\n",
        "df_docked= df[df['rideable_type']=='docked_bike']"
      ],
      "metadata": {
        "id": "CZoUMhHABQhL"
      },
      "execution_count": 60,
      "outputs": []
    },
    {
      "cell_type": "code",
      "source": [
        "figura, eixos=plt.subplots(1,3,figsize=(10,5))\n",
        "eixos[0].hist(df_electric['duration'],range=(0,100),ec='white')\n",
        "eixos[1].hist(df_classic['duration'],range=(0,100),ec='white')\n",
        "eixos[2].hist(df_docked['duration'],range=(0,100),ec='white')\n",
        "figura.suptitle('Duração dos tipos de bike')\n",
        "eixos[0].set_xlabel('duração (m)')\n",
        "eixos[0].set_ylabel('quantidade de corridas')\n",
        "eixos[0].set_title('bike eletrica')\n",
        "eixos[1].set_title('bike classic')\n",
        "eixos[2].set_title('bike docked')\n",
        "figura.tight_layout(pad=3.0)"
      ],
      "metadata": {
        "colab": {
          "base_uri": "https://localhost:8080/",
          "height": 0
        },
        "id": "CT1lz8e9fMDA",
        "outputId": "2c1b6fc0-01a4-459f-a90c-562a7b1aca9e"
      },
      "execution_count": 61,
      "outputs": [
        {
          "output_type": "display_data",
          "data": {
            "text/plain": [
              "<Figure size 720x360 with 3 Axes>"
            ],
            "image/png": "[encoded data removed]"
          },
          "metadata": {
            "needs_background": "light"
          }
        }
      ]
    },
    {
      "cell_type": "markdown",
      "source": [
        "Agora vamos exibir as medidas de media, quantis, desvio padrão, minimo e maximo.\n",
        "dividimos por tipo de bicicleta."
      ],
      "metadata": {
        "id": "qQQJ1BQVLaBZ"
      }
    },
    {
      "cell_type": "code",
      "source": [
        "df_electric['duration'].describe()"
      ],
      "metadata": {
        "colab": {
          "base_uri": "https://localhost:8080/"
        },
        "id": "puhlo756JUog",
        "outputId": "9436fc68-9177-47a9-e153-05c7ec2404d7"
      },
      "execution_count": 62,
      "outputs": [
        {
          "output_type": "execute_result",
          "data": {
            "text/plain": [
              "count    33027.000000\n",
              "mean        12.438091\n",
              "std         14.537077\n",
              "min          0.000000\n",
              "25%          5.166667\n",
              "50%          8.650000\n",
              "75%         14.950000\n",
              "max        480.000000\n",
              "Name: duration, dtype: float64"
            ]
          },
          "metadata": {},
          "execution_count": 62
        }
      ]
    },
    {
      "cell_type": "code",
      "source": [
        "df_classic['duration'].describe()"
      ],
      "metadata": {
        "colab": {
          "base_uri": "https://localhost:8080/"
        },
        "id": "dq3sUBU-JlKY",
        "outputId": "cd443c8f-a44d-4f43-edb5-20b2bb6df6bb"
      },
      "execution_count": 63,
      "outputs": [
        {
          "output_type": "execute_result",
          "data": {
            "text/plain": [
              "count    61597.000000\n",
              "mean        14.082934\n",
              "std         31.898596\n",
              "min          0.000000\n",
              "25%          5.666667\n",
              "50%          9.400000\n",
              "75%         16.416667\n",
              "max       1489.066667\n",
              "Name: duration, dtype: float64"
            ]
          },
          "metadata": {},
          "execution_count": 63
        }
      ]
    },
    {
      "cell_type": "code",
      "source": [
        "df_docked['duration'].describe()"
      ],
      "metadata": {
        "colab": {
          "base_uri": "https://localhost:8080/"
        },
        "id": "wJvqjDGKJsCX",
        "outputId": "d22f0ee2-4a90-4182-b037-a7e21c5d6a28"
      },
      "execution_count": 64,
      "outputs": [
        {
          "output_type": "execute_result",
          "data": {
            "text/plain": [
              "count     2106.000000\n",
              "mean        69.781481\n",
              "std        509.808455\n",
              "min          0.066667\n",
              "25%         12.200000\n",
              "50%         22.950000\n",
              "75%         39.983333\n",
              "max      19825.916667\n",
              "Name: duration, dtype: float64"
            ]
          },
          "metadata": {},
          "execution_count": 64
        }
      ]
    },
    {
      "cell_type": "markdown",
      "source": [
        "Comparando os dados é possivel notar que a duração das corridas com as bicicletas docked possui media e medianas maiores, a bicicleta eletrica é mais rapida e mostra uma duração de corrida um pouco menor do que a classica.\n",
        "supomos que os usuarios da bicicleta docked não estão andando de bicicleta o tempo todo do aluguel."
      ],
      "metadata": {
        "id": "hxhdonsRL5V2"
      }
    },
    {
      "cell_type": "markdown",
      "source": [
        "# Aprendizado de maquina \n",
        "\n",
        "Utilizando aprendizado de maquina para prever atraves das colunas da tabela qual tipo de bicicleta utilizada em uma corrida.\n",
        "\n",
        "\n",
        "\n"
      ],
      "metadata": {
        "id": "YPVxFZu1G3D9"
      }
    },
    {
      "cell_type": "markdown",
      "source": [
        "Mapeando a coluna `rideable_type` para valores inteiros e a coluna `member_casual` tambem."
      ],
      "metadata": {
        "id": "MRVJY-sxX_1u"
      }
    },
    {
      "cell_type": "code",
      "source": [
        "df['rideable_type']=df['rideable_type'].replace(['classic_bike', 'docked_bike', 'electric_bike'], [0,1,2])"
      ],
      "metadata": {
        "id": "Ad8ZxW9yUgWL"
      },
      "execution_count": 65,
      "outputs": []
    },
    {
      "cell_type": "code",
      "source": [
        "df['member_casual']=df['member_casual'].replace(['member', 'casual'], [0,1])"
      ],
      "metadata": {
        "id": "pyC9zLTBUf-B"
      },
      "execution_count": 66,
      "outputs": []
    },
    {
      "cell_type": "markdown",
      "source": [
        "Definindo a coluna `rideable_type` como variavel resposta (y) e as colunas `duration` e `member casual` como variaveis preditoras (X).\n",
        "Dividindo conjuntos de treino e teste."
      ],
      "metadata": {
        "id": "WdH-N7N_Yh94"
      }
    },
    {
      "cell_type": "code",
      "source": [
        "y=df['rideable_type'].astype('int')\n",
        "X=df[['duration','member_casual']]\n",
        "X_train, X_val, y_train, y_val=train_test_split(X,y)"
      ],
      "metadata": {
        "id": "2rqWJUN1H8Jc"
      },
      "execution_count": 67,
      "outputs": []
    },
    {
      "cell_type": "markdown",
      "source": [
        "Definindo um clasificador `DecisionTreeClassifier` e treinando-o."
      ],
      "metadata": {
        "id": "4UP4N4_qZB6J"
      }
    },
    {
      "cell_type": "code",
      "source": [
        "clf=DecisionTreeClassifier()\n",
        "clf.fit(X_train, y_train)"
      ],
      "metadata": {
        "colab": {
          "base_uri": "https://localhost:8080/"
        },
        "id": "GcD53In1KNbx",
        "outputId": "25a9e31f-2339-48cf-c44a-47628c99abbd"
      },
      "execution_count": 68,
      "outputs": [
        {
          "output_type": "execute_result",
          "data": {
            "text/plain": [
              "DecisionTreeClassifier()"
            ]
          },
          "metadata": {},
          "execution_count": 68
        }
      ]
    },
    {
      "cell_type": "markdown",
      "source": [
        "Fazendo a predição e medindo a sua acuracia. Tambem gerando uma matriz de confusão."
      ],
      "metadata": {
        "id": "ECmo-fcUZRkd"
      }
    },
    {
      "cell_type": "code",
      "source": [
        "pred=clf.predict(X_val)"
      ],
      "metadata": {
        "id": "KQ9eLbkCPD8L"
      },
      "execution_count": 69,
      "outputs": []
    },
    {
      "cell_type": "code",
      "source": [
        "accuracy_score(pred, y_val)"
      ],
      "metadata": {
        "colab": {
          "base_uri": "https://localhost:8080/"
        },
        "id": "LategHRXQG2T",
        "outputId": "716a1f30-995b-48a0-d5e3-ad51ab847abd"
      },
      "execution_count": 70,
      "outputs": [
        {
          "output_type": "execute_result",
          "data": {
            "text/plain": [
              "0.6296158458421205"
            ]
          },
          "metadata": {},
          "execution_count": 70
        }
      ]
    },
    {
      "cell_type": "code",
      "source": [
        "confusion_matrix(y_val, pred)"
      ],
      "metadata": {
        "colab": {
          "base_uri": "https://localhost:8080/"
        },
        "id": "d26gEQsmQMkx",
        "outputId": "7b54b25f-d65e-4798-8acc-f952ab32e8b8"
      },
      "execution_count": 71,
      "outputs": [
        {
          "output_type": "execute_result",
          "data": {
            "text/plain": [
              "array([[14073,   123,  1203],\n",
              "       [  272,    63,   166],\n",
              "       [ 7122,    71,  1090]])"
            ]
          },
          "metadata": {},
          "execution_count": 71
        }
      ]
    },
    {
      "cell_type": "markdown",
      "source": [
        "Fazendo o mesmo para o classificador `RandomForestClassifier`"
      ],
      "metadata": {
        "id": "n4F7UqVQPc2m"
      }
    },
    {
      "cell_type": "code",
      "source": [
        "clf2=RandomForestClassifier()\n",
        "clf2.fit(X_train, y_train)"
      ],
      "metadata": {
        "colab": {
          "base_uri": "https://localhost:8080/"
        },
        "id": "K3oLPRXwScDj",
        "outputId": "1e2a91e6-152e-4e7d-e6e7-f77f0ec13ede"
      },
      "execution_count": 72,
      "outputs": [
        {
          "output_type": "execute_result",
          "data": {
            "text/plain": [
              "RandomForestClassifier()"
            ]
          },
          "metadata": {},
          "execution_count": 72
        }
      ]
    },
    {
      "cell_type": "code",
      "source": [
        "predict2=clf2.predict(X_val)"
      ],
      "metadata": {
        "id": "dR7e_a-WSrGk"
      },
      "execution_count": 73,
      "outputs": []
    },
    {
      "cell_type": "code",
      "source": [
        "accuracy_score(predict2, y_val)"
      ],
      "metadata": {
        "colab": {
          "base_uri": "https://localhost:8080/"
        },
        "id": "hEu-oofaS0jl",
        "outputId": "e2de84d7-675a-465c-dd20-b4d58b08ee00"
      },
      "execution_count": 74,
      "outputs": [
        {
          "output_type": "execute_result",
          "data": {
            "text/plain": [
              "0.6258115204896001"
            ]
          },
          "metadata": {},
          "execution_count": 74
        }
      ]
    },
    {
      "cell_type": "code",
      "source": [
        "confusion_matrix(y_val, predict2)"
      ],
      "metadata": {
        "colab": {
          "base_uri": "https://localhost:8080/"
        },
        "id": "A6SeDfqmYbAx",
        "outputId": "c9566f75-2b2c-4da5-bd70-422cb0d0edae"
      },
      "execution_count": 75,
      "outputs": [
        {
          "output_type": "execute_result",
          "data": {
            "text/plain": [
              "array([[13801,   134,  1464],\n",
              "       [  234,    66,   201],\n",
              "       [ 6939,    77,  1267]])"
            ]
          },
          "metadata": {},
          "execution_count": 75
        }
      ]
    },
    {
      "cell_type": "markdown",
      "source": [
        "Finalmente repitindo o processo para o `KneighborsClassifier`"
      ],
      "metadata": {
        "id": "R5nWRLhCZwc9"
      }
    },
    {
      "cell_type": "code",
      "source": [
        "clf3=KNeighborsClassifier()\n",
        "clf3.fit(X_train, y_train)"
      ],
      "metadata": {
        "colab": {
          "base_uri": "https://localhost:8080/"
        },
        "id": "7UzKtTPbW2XV",
        "outputId": "895c7840-93d6-412e-9241-b5f39148d310"
      },
      "execution_count": 76,
      "outputs": [
        {
          "output_type": "execute_result",
          "data": {
            "text/plain": [
              "KNeighborsClassifier()"
            ]
          },
          "metadata": {},
          "execution_count": 76
        }
      ]
    },
    {
      "cell_type": "code",
      "source": [
        "predict3=clf3.predict(X_val)"
      ],
      "metadata": {
        "id": "AENClsTCX_9-"
      },
      "execution_count": 77,
      "outputs": []
    },
    {
      "cell_type": "code",
      "source": [
        "accuracy_score(predict3, y_val)"
      ],
      "metadata": {
        "colab": {
          "base_uri": "https://localhost:8080/"
        },
        "id": "CmkYAmUbYKKs",
        "outputId": "a47db24a-c408-4de9-f781-c8f838eb8d09"
      },
      "execution_count": 78,
      "outputs": [
        {
          "output_type": "execute_result",
          "data": {
            "text/plain": [
              "0.579043129471116"
            ]
          },
          "metadata": {},
          "execution_count": 78
        }
      ]
    },
    {
      "cell_type": "code",
      "source": [
        "confusion_matrix(y_val, predict3)"
      ],
      "metadata": {
        "colab": {
          "base_uri": "https://localhost:8080/"
        },
        "id": "VIItW_-OYimc",
        "outputId": "03db8505-643b-4a84-878f-6323a912f178"
      },
      "execution_count": 79,
      "outputs": [
        {
          "output_type": "execute_result",
          "data": {
            "text/plain": [
              "array([[11846,   142,  3411],\n",
              "       [  280,    64,   157],\n",
              "       [ 6088,   102,  2093]])"
            ]
          },
          "metadata": {},
          "execution_count": 79
        }
      ]
    },
    {
      "cell_type": "markdown",
      "source": [
        "## Conclusão\n",
        "\n",
        "Foi obtida uma acuracia cerca de 60% e as matrices de confusão mostram que teve dados diversos classificados incorretamente.\n",
        "\n",
        "A pesar disso as bicicletas classicas foram as mais faceis de classificar.\n",
        "\n",
        "Isso provavelmente se deve ao fato de que as variaveis duração e membro_casual não possuem alta correlação com o tipo de bicicleta.\n",
        "\n",
        "Comparando os tres modelos de machine learning utilizados, é possivel notar que a decisiontree e randomforest alcaçaram uma acuracia maior do que o kneighbors. "
      ],
      "metadata": {
        "id": "uhb3SuBlLdni"
      }
    }
  ],
  "metadata": {
    "colab": {
      "provenance": [],
      "collapsed_sections": [
        "H3ad4Hdl3jAb"
      ]
    },
    "kernelspec": {
      "display_name": "Python 3",
      "name": "python3"
    }
  },
  "nbformat": 4,
  "nbformat_minor": 0
}